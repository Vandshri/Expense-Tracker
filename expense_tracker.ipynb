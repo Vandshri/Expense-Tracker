{
 "cells": [
  {
   "cell_type": "code",
   "execution_count": null,
   "id": "77647172-4ed3-45de-966c-e65fa44222ec",
   "metadata": {},
   "outputs": [
    {
     "name": "stdout",
     "output_type": "stream",
     "text": [
      "===== Expense Tracker =====\n",
      "1. Add Expense\n",
      "2. Show Monthly Summary\n",
      "3. Exit\n"
     ]
    },
    {
     "name": "stdin",
     "output_type": "stream",
     "text": [
      "Choose an option:  1\n",
      "Enter date (YYYY-MM-DD):  2025/06/15\n",
      "Enter category (e.g., Food, Transport):  food\n",
      "Enter amount:  500\n",
      "Enter description:  I had my lunch at Office Cafeteria\n"
     ]
    },
    {
     "name": "stdout",
     "output_type": "stream",
     "text": [
      "✅ Expense added successfully.\n",
      "\n",
      "===== Expense Tracker =====\n",
      "1. Add Expense\n",
      "2. Show Monthly Summary\n",
      "3. Exit\n"
     ]
    },
    {
     "name": "stdin",
     "output_type": "stream",
     "text": [
      "Choose an option:  1\n",
      "Enter date (YYYY-MM-DD):  2025/06/15\n",
      "Enter category (e.g., Food, Transport):  Transport\n",
      "Enter amount:  200\n",
      "Enter description:  Bus and Metro Price\n"
     ]
    },
    {
     "name": "stdout",
     "output_type": "stream",
     "text": [
      "✅ Expense added successfully.\n",
      "\n",
      "===== Expense Tracker =====\n",
      "1. Add Expense\n",
      "2. Show Monthly Summary\n",
      "3. Exit\n"
     ]
    },
    {
     "name": "stdin",
     "output_type": "stream",
     "text": [
      "Choose an option:  1\n",
      "Enter date (YYYY-MM-DD):  Transport\n",
      "Enter category (e.g., Food, Transport):  200\n",
      "Enter amount:  200\n",
      "Enter description:  Bus and Metro Price\n"
     ]
    },
    {
     "name": "stdout",
     "output_type": "stream",
     "text": [
      "✅ Expense added successfully.\n",
      "\n",
      "===== Expense Tracker =====\n",
      "1. Add Expense\n",
      "2. Show Monthly Summary\n",
      "3. Exit\n"
     ]
    },
    {
     "name": "stdin",
     "output_type": "stream",
     "text": [
      "Choose an option:  2\n",
      "Enter month (YYYY-MM):  2025/06\n"
     ]
    },
    {
     "name": "stdout",
     "output_type": "stream",
     "text": [
      "\n",
      "📊 Monthly Summary:\n",
      "food: ₹500.0\n",
      "Transport: ₹200.0\n"
     ]
    },
    {
     "data": {
      "image/png": "[encoded data removed]",
      "text/plain": [
       "<Figure size 700x500 with 1 Axes>"
      ]
     },
     "metadata": {},
     "output_type": "display_data"
    },
    {
     "name": "stdout",
     "output_type": "stream",
     "text": [
      "===== Expense Tracker =====\n",
      "1. Add Expense\n",
      "2. Show Monthly Summary\n",
      "3. Exit\n"
     ]
    }
   ],
   "source": [
    "import csv\n",
    "import matplotlib.pyplot as plt\n",
    "from datetime import datetime\n",
    "from collections import defaultdict\n",
    "\n",
    "FILENAME = \"expenses.csv\"\n",
    "\n",
    "def add_expense():\n",
    "    date = input(\"Enter date (YYYY-MM-DD): \")\n",
    "    category = input(\"Enter category (e.g., Food, Transport, Groceries): \")\n",
    "    amount = float(input(\"Enter amount: \"))\n",
    "    description = input(\"Enter description: \")\n",
    "\n",
    "    with open(FILENAME, \"a\", newline=\"\") as file:\n",
    "        writer = csv.writer(file)\n",
    "        writer.writerow([date, category, amount, description])\n",
    "    print(\"✅ Expense added successfully.\\n\")\n",
    "\n",
    "def read_expenses():\n",
    "    expenses = []\n",
    "    try:\n",
    "        with open(FILENAME, \"r\") as file:\n",
    "            reader = csv.reader(file)\n",
    "            for row in reader:\n",
    "                expenses.append({\n",
    "                    \"date\": row[0],\n",
    "                    \"category\": row[1],\n",
    "                    \"amount\": float(row[2]),\n",
    "                    \"description\": row[3]\n",
    "                })\n",
    "    except FileNotFoundError:\n",
    "        pass\n",
    "    return expenses\n",
    "\n",
    "def monthly_summary():\n",
    "    expenses = read_expenses()\n",
    "    month = input(\"Enter month (YYYY-MM): \")\n",
    "    summary = defaultdict(float)\n",
    "\n",
    "    for e in expenses:\n",
    "        if e[\"date\"].startswith(month):\n",
    "            summary[e[\"category\"]] += e[\"amount\"]\n",
    "\n",
    "    print(\"\\n📊 Monthly Summary:\")\n",
    "    for category, total in summary.items():\n",
    "        print(f\"{category}: ₹{total}\")\n",
    "\n",
    "    return summary\n",
    "\n",
    "def plot_summary(summary):\n",
    "    categories = list(summary.keys())\n",
    "    amounts = list(summary.values())\n",
    "\n",
    "    plt.figure(figsize=(7, 5))\n",
    "    plt.bar(categories, amounts, color=\"skyblue\")\n",
    "    plt.title(\"Monthly Expenses by Category\")\n",
    "    plt.xlabel(\"Category\")\n",
    "    plt.ylabel(\"Amount (₹)\")\n",
    "    plt.xticks(rotation=45)\n",
    "    plt.tight_layout()\n",
    "    plt.show()\n",
    "\n",
    "def main():\n",
    "    while True:\n",
    "        print(\"===== Expense Tracker =====\")\n",
    "        print(\"1. Add Expense\")\n",
    "        print(\"2. Show Monthly Summary\")\n",
    "        print(\"3. Exit\")\n",
    "        choice = input(\"Choose an option: \")\n",
    "\n",
    "        if choice == \"1\":\n",
    "            add_expense()\n",
    "        elif choice == \"2\":\n",
    "            summary = monthly_summary()\n",
    "            plot_summary(summary)\n",
    "        elif choice == \"3\":\n",
    "            print(\"👋 Exiting... Have a good day!\")\n",
    "            break\n",
    "        else:\n",
    "            print(\"❌ Invalid choice. Try again.\\n\")\n",
    "\n",
    "if __name__ == \"__main__\":\n",
    "    main()\n"
   ]
  },
  {
   "cell_type": "code",
   "execution_count": null,
   "id": "3602dd74-cfea-4299-9d0b-2ac1488abf98",
   "metadata": {},
   "outputs": [],
   "source": []
  }
 ],
 "metadata": {
  "kernelspec": {
   "display_name": "Python [conda env:base] *",
   "language": "python",
   "name": "conda-base-py"
  },
  "language_info": {
   "codemirror_mode": {
    "name": "ipython",
    "version": 3
   },
   "file_extension": ".py",
   "mimetype": "text/x-python",
   "name": "python",
   "nbconvert_exporter": "python",
   "pygments_lexer": "ipython3",
   "version": "3.12.7"
  }
 },
 "nbformat": 4,
 "nbformat_minor": 5
}
